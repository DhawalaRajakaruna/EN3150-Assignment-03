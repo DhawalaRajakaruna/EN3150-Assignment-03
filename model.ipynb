{
 "cells": [
  {
   "cell_type": "code",
   "execution_count": 3,
   "id": "3703bd65",
   "metadata": {},
   "outputs": [],
   "source": [
    "import torch\n",
    "import torch.nn as nn \n",
    "import torch.optim as optim\n",
    "import numpy as np\n",
    "import matplotlib.pyplot as plt\n"
   ]
  },
  {
   "cell_type": "markdown",
   "id": "978e3c1c",
   "metadata": {},
   "source": [
    "## **Model Architecture**"
   ]
  },
  {
   "cell_type": "code",
   "execution_count": 2,
   "id": "e8970f51",
   "metadata": {},
   "outputs": [],
   "source": [
    "# Simple 3 layer covolution model \n",
    "class CNN_model(nn.Module):\n",
    "    def __init__(self, in_channel):\n",
    "        super().__init__()\n",
    "        \n",
    "        # Convolution blocks\n",
    "        self.feature_extractor = nn.Sequential(\n",
    "            nn.Conv2d(in_channel, 16, kernel_size=3, stride=1,padding=1),\n",
    "            nn.ReLU(inplace=True),\n",
    "            nn.MaxPool2d(kernel_size=2, stride=2),\n",
    "            \n",
    "            nn.Conv2d(16, 32, kernel_size=3, stride=1,padding=1),\n",
    "            nn.ReLU(inplace=True),\n",
    "            nn.MaxPool2d(kernel_size=2, stride=2),\n",
    "            \n",
    "            nn.Conv2d(32, 64, kernel_size=3, stride=1, padding=1),\n",
    "            nn.ReLU(inplace=True),\n",
    "            nn.MaxPool2d(kernel_size=2, stride=2)\n",
    "        )\n",
    "        \n",
    "        # NN block\n",
    "        self.fully_connected = nn.Sequential(\n",
    "            nn.Linear(4096, 256),       # for 3x64x64 image -> 4096 = 8x8x64 (change according to input image)\n",
    "            nn.ReLU(inplace=True),\n",
    "            nn.Linear(256, 9)\n",
    "            \n",
    "        )\n",
    "    def forward(self,x):\n",
    "        X = self.feature_extractor(x)\n",
    "        X = torch.flatten(X,1)\n",
    "        X = self.fully_connected(X)\n",
    "        \n",
    "        return X\n",
    "        \n",
    "        "
   ]
  },
  {
   "cell_type": "markdown",
   "id": "137ee125",
   "metadata": {},
   "source": [
    "## **Training**"
   ]
  },
  {
   "cell_type": "code",
   "execution_count": null,
   "id": "7fa769b7",
   "metadata": {},
   "outputs": [],
   "source": [
    "def Train(device, model, epochs):\n",
    "    \n",
    "    criterion = nn.CrossEntropyLoss()\n",
    "    optimizer = optim.Adam(model.parameters(), lr=1e-2)\n",
    "    \n",
    "    EPOCHS = epochs\n",
    "    train_loss, val_loss = [], []\n",
    "    train_acc, val_acc = [],[]\n",
    "    \n",
    "    for epoch in range(EPOCHS):\n",
    "        model.train()\n",
    "        "
   ]
  }
 ],
 "metadata": {
  "kernelspec": {
   "display_name": "torch_env",
   "language": "python",
   "name": "python3"
  },
  "language_info": {
   "codemirror_mode": {
    "name": "ipython",
    "version": 3
   },
   "file_extension": ".py",
   "mimetype": "text/x-python",
   "name": "python",
   "nbconvert_exporter": "python",
   "pygments_lexer": "ipython3",
   "version": "3.10.18"
  }
 },
 "nbformat": 4,
 "nbformat_minor": 5
}
